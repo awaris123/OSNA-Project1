{
 "cells": [
  {
   "cell_type": "code",
   "execution_count": 2,
   "metadata": {},
   "outputs": [],
   "source": [
    "import math\n",
    "def entropy(pi):\n",
    "    total = 0\n",
    "    if sum(pi) == 0:\n",
    "        return 0\n",
    "    for p in pi:\n",
    "        p = p / sum(pi)\n",
    "        if p != 0:\n",
    "            total += p * math.log(p, 2)\n",
    "        else:\n",
    "            total += 0\n",
    "    total *= -1\n",
    "    return total\n",
    "\n",
    "def gain(a):\n",
    "    '''\n",
    "    return the information gain:\n",
    "    gain(D, A) = entropy(D)−􏰋 SUM ( |Di| / |D| * entropy(Di) )\n",
    "    '''\n",
    "    d = [sum(lst) for lst in a]\n",
    "    if sum(d) == 0:\n",
    "        return 0\n",
    "    total = 0\n",
    "    for v in a:\n",
    "        total += sum(v) / sum(d) * entropy(v)\n",
    "\n",
    "    gain = entropy(d) - total\n",
    "    return gain\n"
   ]
  },
  {
   "cell_type": "code",
   "execution_count": 3,
   "metadata": {},
   "outputs": [
    {
     "data": {
      "text/plain": [
       "0.9402859586706309"
      ]
     },
     "execution_count": 3,
     "metadata": {},
     "output_type": "execute_result"
    }
   ],
   "source": [
    "entropy([9, 5])"
   ]
  },
  {
   "cell_type": "code",
   "execution_count": 4,
   "metadata": {},
   "outputs": [
    {
     "name": "stdout",
     "output_type": "stream",
     "text": [
      "Level 1\n",
      "\n",
      "Age\n",
      "0.8838701439561534\n",
      "\n",
      "Income\n",
      "0.5785618192935624\n",
      "\n",
      "Student\n",
      "0.21154954269171045\n",
      "\n",
      "Credit\n",
      "0.09306920777188998\n",
      "\n",
      "Winner: Age\n"
     ]
    }
   ],
   "source": [
    "print(\"Level 1\")\n",
    "print(\"\\nAge\")\n",
    "print(gain([[2, 3], [4, 0],[3,2]]))\n",
    "\n",
    "print(\"\\nIncome\")\n",
    "print(gain([[2, 2], [5, 2],[2,1]]))\n",
    "\n",
    "print(\"\\nStudent\")\n",
    "print(gain([[6, 1], [3, 4]]))\n",
    "\n",
    "print(\"\\nCredit\")\n",
    "print(gain([[6, 2], [3, 3]]))\n",
    "\n",
    "\n",
    "print(\"\\nWinner: Age\")"
   ]
  },
  {
   "cell_type": "code",
   "execution_count": 15,
   "metadata": {},
   "outputs": [
    {
     "name": "stdout",
     "output_type": "stream",
     "text": [
      "Level 2\n",
      "\n",
      "30L\n",
      "-----------------------\n",
      "Income\n",
      "0.4199730940219749\n",
      "Student\n",
      "0.9709505944546686\n",
      "Credit\n",
      "0.12255624891826566\n",
      "\n",
      "Winner: Student\n",
      "\n",
      "BET\n",
      "-----------------------\n",
      "All instances buy a computer \n",
      "\n",
      "41H\n",
      "-----------------------\n",
      "Income\n",
      "-0.07807190511263773\n",
      "Student\n",
      "0.07290559532005603\n",
      "Credit\n",
      "0.9709505944546686\n",
      "\n",
      "Winner: Credit\n"
     ]
    }
   ],
   "source": [
    "print(\"Level 2\")\n",
    "print(\"\\n30L\\n-----------------------\")\n",
    "print(\"Income\")\n",
    "print(gain([[0, 2], [2, 1],[0,0]]))\n",
    "print(\"Student\")\n",
    "print(gain([[0, 3], [2, 0]]))\n",
    "print(\"Credit\")\n",
    "print(gain([[1, 2], [0, 1]]))\n",
    "print(\"\\nWinner: Student\")\n",
    "\n",
    "print(\"\\nBET\\n-----------------------\")\n",
    "print(\"All instances buy a computer \")\n",
    "# print(\"Income\")\n",
    "# print(gain([[2, 0], [1, 0],[1,0]]))\n",
    "# print(\"Student\")\n",
    "# print(gain([[2, 0], [2, 0]]))\n",
    "# print(\"Credit\")\n",
    "# print(gain([[2, 0], [2, 0]]))\n",
    "\n",
    "print(\"\\n41H\\n-----------------------\")\n",
    "print(\"Income\")\n",
    "print(gain([[2, 2], [1, 0],[0,0]]))\n",
    "print(\"Student\")\n",
    "print(gain([[0, 1], [3, 1]]))\n",
    "print(\"Credit\")\n",
    "print(gain([[3, 0], [0, 2]]))\n",
    "print(\"\\nWinner: Credit\")"
   ]
  },
  {
   "cell_type": "code",
   "execution_count": 14,
   "metadata": {},
   "outputs": [
    {
     "name": "stdout",
     "output_type": "stream",
     "text": [
      "Level 3\n",
      "\n",
      "30L\n",
      "-----------------------\n",
      "\n",
      "    Student = YES\n",
      "    -----------------------\n",
      "    All instances buy a computer \n",
      "\n",
      "    Student = NO\n",
      "    -----------------------\n",
      "    All instances DONT buy a computer \n",
      "\n",
      "\n",
      "\n",
      "BET\n",
      "-----------------------\n",
      "All instances buy a computer \n",
      "\n",
      "\n",
      "\n",
      "41H\n",
      "-----------------------\n",
      "\n",
      "    Credit = Fair\n",
      "    -----------------------\n",
      "    All instances buy a computer \n",
      "\n",
      "    Credit = Excellent\n",
      "    -----------------------\n",
      "    All instances DONT buy a computer \n"
     ]
    }
   ],
   "source": [
    "print(\"Level 3\")\n",
    "print(\"\\n30L\\n-----------------------\")\n",
    "print(\"\\n    Student = YES\\n    -----------------------\")\n",
    "print(\"    All instances buy a computer \")\n",
    "print(\"\\n    Student = NO\\n    -----------------------\")\n",
    "print(\"    All instances DONT buy a computer \")\n",
    "print(\"\\n\")\n",
    "print(\"\\nBET\\n-----------------------\")\n",
    "print(\"All instances buy a computer \")\n",
    "print(\"\\n\")\n",
    "print(\"\\n41H\\n-----------------------\")\n",
    "print(\"\\n    Credit = Fair\\n    -----------------------\")\n",
    "print(\"    All instances buy a computer \")\n",
    "print(\"\\n    Credit = Excellent\\n    -----------------------\")\n",
    "print(\"    All instances DONT buy a computer \")\n"
   ]
  },
  {
   "cell_type": "code",
   "execution_count": null,
   "metadata": {},
   "outputs": [],
   "source": []
  }
 ],
 "metadata": {
  "kernelspec": {
   "display_name": "osna",
   "language": "python",
   "name": "osna"
  },
  "language_info": {
   "codemirror_mode": {
    "name": "ipython",
    "version": 3
   },
   "file_extension": ".py",
   "mimetype": "text/x-python",
   "name": "python",
   "nbconvert_exporter": "python",
   "pygments_lexer": "ipython3",
   "version": "3.8.5"
  }
 },
 "nbformat": 4,
 "nbformat_minor": 4
}
